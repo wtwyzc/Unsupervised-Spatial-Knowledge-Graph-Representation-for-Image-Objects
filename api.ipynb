{
 "cells": [
  {
   "cell_type": "code",
   "execution_count": 9,
   "id": "fcc5ee8f",
   "metadata": {},
   "outputs": [
    {
     "name": "stdout",
     "output_type": "stream",
     "text": [
      "Loaded as API: http://103.170.5.190:7860/ ✔\n",
      "('/var/folders/p3/fy_k3_cx34g68bznfywdw0sm0000gn/T/gradio/aeb34a5e5702488c671265281273bfc5bb5e25f6/tmpbrnv7c67.png', 'ASSITANT: Yes, the image features a laptop computer.')\n"
     ]
    }
   ],
   "source": [
    "from gradio_client import Client\n",
    "\n",
    "client = Client(\"http://103.170.5.190:7860/\")\n",
    "result = client.predict(\n",
    "\t\t\t\t\"Does this image contain a computer?\",\t# str in 'Text Instruction' Textbox component\n",
    "\t\t\t\t\"/Users/tianyc/Desktop/1.jpg\",\t# str (filepath or URL to image) in 'Input Image' Image component\n",
    "\t\t\t\tapi_name=\"/predict\"\n",
    ")\n",
    "print(result)"
   ]
  },
  {
   "cell_type": "code",
   "execution_count": 3,
   "id": "068ae7b4",
   "metadata": {},
   "outputs": [
    {
     "name": "stdout",
     "output_type": "stream",
     "text": [
      "Loaded as API: http://103.170.5.190:7860/ ✔\n"
     ]
    },
    {
     "ename": "TypeError",
     "evalue": "string indices must be integers",
     "output_type": "error",
     "traceback": [
      "\u001b[0;31m---------------------------------------------------------------------------\u001b[0m",
      "\u001b[0;31mTypeError\u001b[0m                                 Traceback (most recent call last)",
      "Cell \u001b[0;32mIn[3], line 26\u001b[0m\n\u001b[1;32m     24\u001b[0m \u001b[38;5;66;03m# 使用Gradio API预测图片是否包含电脑\u001b[39;00m\n\u001b[1;32m     25\u001b[0m result \u001b[38;5;241m=\u001b[39m client\u001b[38;5;241m.\u001b[39mpredict(\u001b[38;5;124m\"\u001b[39m\u001b[38;5;124mCan you segment cumputer in this image?\u001b[39m\u001b[38;5;124m\"\u001b[39m, input_image_path, api_name\u001b[38;5;241m=\u001b[39m\u001b[38;5;124m\"\u001b[39m\u001b[38;5;124m/predict\u001b[39m\u001b[38;5;124m\"\u001b[39m)\n\u001b[0;32m---> 26\u001b[0m prediction \u001b[38;5;241m=\u001b[39m \u001b[43mresult\u001b[49m\u001b[43m[\u001b[49m\u001b[38;5;241;43m1\u001b[39;49m\u001b[43m]\u001b[49m\u001b[43m[\u001b[49m\u001b[38;5;124;43m\"\u001b[39;49m\u001b[38;5;124;43moutputs\u001b[39;49m\u001b[38;5;124;43m\"\u001b[39;49m\u001b[43m]\u001b[49m[\u001b[38;5;124m\"\u001b[39m\u001b[38;5;124mresult\u001b[39m\u001b[38;5;124m\"\u001b[39m]\n\u001b[1;32m     28\u001b[0m \u001b[38;5;66;03m# 根据预测结果复制图片到相应的输出文件夹\u001b[39;00m\n\u001b[1;32m     29\u001b[0m \u001b[38;5;28;01mif\u001b[39;00m prediction \u001b[38;5;241m==\u001b[39m \u001b[38;5;124m\"\u001b[39m\u001b[38;5;124mYes\u001b[39m\u001b[38;5;124m\"\u001b[39m:\n",
      "\u001b[0;31mTypeError\u001b[0m: string indices must be integers"
     ]
    }
   ],
   "source": [
    "import os\n",
    "import shutil\n",
    "from gradio_client import Client\n",
    "\n",
    "# 连接到Gradio API\n",
    "client = Client(\"http://103.170.5.190:7860/\")\n",
    "\n",
    "# 定义输入图片文件夹和输出文件夹路径\n",
    "input_folder = \"/Users/tianyc/Desktop/digital_nomad/images/normal\"\n",
    "output_positive_folder = \"/Users/tianyc/Desktop/digital_nomad/images/output_p_cumputer\"  # 包含电脑的图片将被复制到这个文件夹\n",
    "output_negative_folder = \"/Users/tianyc/Desktop/digital_nomad/images/output_n_cumputer\"  # 不包含电脑的图片将被复制到这个文件夹\n",
    "\n",
    "# 确保输出文件夹存在\n",
    "os.makedirs(output_positive_folder, exist_ok=True)\n",
    "os.makedirs(output_negative_folder, exist_ok=True)\n",
    "\n",
    "# 获取输入文件夹中的前1000张图片\n",
    "image_files = os.listdir(input_folder)[:100]\n",
    "\n",
    "# 遍历每张图片\n",
    "for image_file in image_files:\n",
    "    input_image_path = os.path.join(input_folder, image_file)\n",
    "\n",
    "    # 使用Gradio API预测图片是否包含电脑\n",
    "    result = client.predict(\"Can you segment cumputer in this image?\", input_image_path, api_name=\"/predict\")\n",
    "    prediction = result[1][\"outputs\"][\"result\"]\n",
    "\n",
    "    # 根据预测结果复制图片到相应的输出文件夹\n",
    "    if prediction == \"Yes\":\n",
    "        output_image_path = os.path.join(output_positive_folder, image_file)\n",
    "    else:\n",
    "        output_image_path = os.path.join(output_negative_folder, image_file)\n",
    "\n",
    "    shutil.copyfile(input_image_path, output_image_path)\n"
   ]
  },
  {
   "cell_type": "code",
   "execution_count": null,
   "id": "984824b4",
   "metadata": {},
   "outputs": [],
   "source": []
  }
 ],
 "metadata": {
  "kernelspec": {
   "display_name": "Python 3 (ipykernel)",
   "language": "python",
   "name": "python3"
  },
  "language_info": {
   "codemirror_mode": {
    "name": "ipython",
    "version": 3
   },
   "file_extension": ".py",
   "mimetype": "text/x-python",
   "name": "python",
   "nbconvert_exporter": "python",
   "pygments_lexer": "ipython3",
   "version": "3.10.8"
  },
  "toc": {
   "base_numbering": 1,
   "nav_menu": {},
   "number_sections": true,
   "sideBar": true,
   "skip_h1_title": false,
   "title_cell": "Table of Contents",
   "title_sidebar": "Contents",
   "toc_cell": false,
   "toc_position": {},
   "toc_section_display": true,
   "toc_window_display": false
  }
 },
 "nbformat": 4,
 "nbformat_minor": 5
}
